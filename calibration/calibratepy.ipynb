{
 "cells": [
  {
   "cell_type": "code",
   "execution_count": 3,
   "metadata": {},
   "outputs": [],
   "source": [
    "import numpy as np\n",
    "import cv2 \n",
    "import glob"
   ]
  },
  {
   "cell_type": "code",
   "execution_count": 4,
   "metadata": {},
   "outputs": [],
   "source": [
    "import json"
   ]
  },
  {
   "cell_type": "code",
   "execution_count": 5,
   "metadata": {},
   "outputs": [
    {
     "name": "stdout",
     "output_type": "stream",
     "text": [
      "images/kek12.jpg\n",
      "images/kek13.jpg\n",
      "images/kek39.jpg\n",
      "images/kek11.jpg\n",
      "images/kek10.jpg\n",
      "images/kek38.jpg\n",
      "images/kek14.jpg\n",
      "images/kek28.jpg\n",
      "images/kek29.jpg\n",
      "images/kek15.jpg\n",
      "images/kek17.jpg\n",
      "images/kek16.jpg\n",
      "images/kek59.jpg\n",
      "images/kek71.jpg\n",
      "images/kek65.jpg\n",
      "images/kek3.jpg\n",
      "images/kek2.jpg\n",
      "images/kek64.jpg\n",
      "images/kek70.jpg\n",
      "images/kek58.jpg\n",
      "images/kek66.jpg\n",
      "images/kek72.jpg\n",
      "images/kek0.jpg\n",
      "images/kek1.jpg\n",
      "images/kek73.jpg\n",
      "images/kek67.jpg\n",
      "images/kek63.jpg\n",
      "images/kek77.jpg\n",
      "images/kek88.jpg\n",
      "images/kek5.jpg\n",
      "images/kek4.jpg\n",
      "images/kek89.jpg\n",
      "images/kek76.jpg\n",
      "images/kek62.jpg\n",
      "images/kek74.jpg\n",
      "images/kek60.jpg\n",
      "images/kek48.jpg\n",
      "images/kek6.jpg\n",
      "images/kek7.jpg\n",
      "images/kek49.jpg\n",
      "images/kek61.jpg\n",
      "images/kek75.jpg\n",
      "images/kek78.jpg\n",
      "images/kek50.jpg\n",
      "images/kek44.jpg\n",
      "images/kek87.jpg\n",
      "images/kek86.jpg\n",
      "images/kek92.jpg\n",
      "images/kek45.jpg\n",
      "images/kek51.jpg\n",
      "images/kek79.jpg\n",
      "images/kek47.jpg\n",
      "images/kek53.jpg\n",
      "images/kek84.jpg\n",
      "images/kek90.jpg\n",
      "images/kek9.jpg\n",
      "images/kek8.jpg\n",
      "images/kek91.jpg\n",
      "images/kek85.jpg\n",
      "images/kek52.jpg\n",
      "images/kek46.jpg\n",
      "images/kek42.jpg\n",
      "images/kek56.jpg\n",
      "images/kek81.jpg\n",
      "images/kek80.jpg\n",
      "images/kek57.jpg\n",
      "images/kek43.jpg\n",
      "images/kek55.jpg\n",
      "images/kek41.jpg\n",
      "images/kek69.jpg\n",
      "images/kek82.jpg\n",
      "images/kek83.jpg\n",
      "images/kek68.jpg\n",
      "images/kek40.jpg\n",
      "images/kek54.jpg\n",
      "images/kek33.jpg\n",
      "images/kek27.jpg\n",
      "images/kek26.jpg\n",
      "images/kek32.jpg\n",
      "images/kek18.jpg\n",
      "images/kek24.jpg\n",
      "images/kek30.jpg\n",
      "images/kek31.jpg\n",
      "images/kek25.jpg\n",
      "images/kek19.jpg\n",
      "images/kek21.jpg\n",
      "images/kek35.jpg\n",
      "images/kek34.jpg\n",
      "images/kek20.jpg\n",
      "images/kek36.jpg\n",
      "images/kek22.jpg\n",
      "images/kek23.jpg\n",
      "images/kek37.jpg\n"
     ]
    }
   ],
   "source": [
    "\n",
    "# termination criteria\n",
    "criteria = (cv2.TERM_CRITERIA_EPS + cv2.TERM_CRITERIA_MAX_ITER, 20, 0.001)\n",
    "\n",
    "# prepare object points, like (0,0,0), (1,0,0), (2,0,0) ....,(6,5,0)\n",
    "objp = np.zeros((9*6,3), np.float32)\n",
    "objp[:,:2] = np.mgrid[0:6,0:9].T.reshape(-1,2)\n",
    "\n",
    "# Arrays to store object points and image points from all the images.\n",
    "objpoints = [] # 3d point in real world space\n",
    "imgpoints = [] # 2d points in image plane.\n",
    "\n",
    "images = glob.glob('images/*.jpg')\n",
    "\n",
    "for fname in images:\n",
    "    img = cv2.imread(fname)\n",
    "    gray = cv2.cvtColor(img,cv2.COLOR_BGR2GRAY)\n",
    "\n",
    "    # Find the chess board corners\n",
    "    ret, corners = cv2.findChessboardCorners(gray, (6,9), None)\n",
    "\n",
    "    # If found, add object points, image points (after refining them)\n",
    "    if ret == True:\n",
    "        objpoints.append(objp)\n",
    "\n",
    "        corners2 = cv2.cornerSubPix(gray,corners,(11,11),(-1,-1),criteria)\n",
    "        imgpoints.append(corners2)\n",
    "\n",
    "        # Draw and display the corners\n",
    "        img = cv2.drawChessboardCorners(img, (6,9), corners2,ret)\n",
    "        cv2.imshow(str(fname),img)\n",
    "        print(str(fname))\n",
    "        cv2.waitKey(500)\n",
    "\n",
    "cv2.destroyAllWindows()\n",
    "\n"
   ]
  },
  {
   "cell_type": "code",
   "execution_count": 6,
   "metadata": {},
   "outputs": [
    {
     "data": {
      "text/plain": [
       "93"
      ]
     },
     "execution_count": 6,
     "metadata": {},
     "output_type": "execute_result"
    }
   ],
   "source": [
    "len(imgpoints)"
   ]
  },
  {
   "cell_type": "code",
   "execution_count": 7,
   "metadata": {},
   "outputs": [],
   "source": [
    "ret, mtx, dist, rvecs, tvecs = cv2.calibrateCamera(objpoints, imgpoints, gray.shape[::-1],None,None)\n",
    "np.save('images/calibration', [mtx, dist, rvecs, tvecs])"
   ]
  },
  {
   "cell_type": "code",
   "execution_count": 8,
   "metadata": {},
   "outputs": [],
   "source": [
    "d = {'cam_col':  mtx}"
   ]
  },
  {
   "cell_type": "code",
   "execution_count": 9,
   "metadata": {},
   "outputs": [
    {
     "data": {
      "text/plain": [
       "[[381.9030514567117, 0.0, 155.5275882330033],\n",
       " [0.0, 391.53483893715196, 124.90573584397559],\n",
       " [0.0, 0.0, 1.0]]"
      ]
     },
     "execution_count": 9,
     "metadata": {},
     "output_type": "execute_result"
    }
   ],
   "source": [
    "mtx.tolist()"
   ]
  },
  {
   "cell_type": "code",
   "execution_count": 10,
   "metadata": {},
   "outputs": [],
   "source": [
    "data = {}\n",
    "data['cam_col'] = mtx.tolist()\n",
    "\n",
    "\n",
    "with open('cam_col.json', 'w') as outfile:\n",
    "    json.dump(data, outfile)"
   ]
  },
  {
   "cell_type": "code",
   "execution_count": 14,
   "metadata": {},
   "outputs": [],
   "source": [
    "img = cv2.imread('images/kek9.jpg')\n",
    "h,  w = img.shape[:2]\n",
    "newcameramtx, roi=cv2.getOptimalNewCameraMatrix(mtx,dist,(w,h),0,(w,h))"
   ]
  },
  {
   "cell_type": "code",
   "execution_count": 12,
   "metadata": {},
   "outputs": [
    {
     "data": {
      "text/plain": [
       "[[-1.4050657439706025,\n",
       "  15.722621414625365,\n",
       "  0.009273374129144491,\n",
       "  -0.06269256537929846,\n",
       "  -58.93388405796231]]"
      ]
     },
     "execution_count": 12,
     "metadata": {},
     "output_type": "execute_result"
    }
   ],
   "source": [
    "dist.tolist()"
   ]
  },
  {
   "cell_type": "markdown",
   "metadata": {},
   "source": [
    "dist 1.35 [[-0.3527889038407472,\n",
    "  1.930829701255171,\n",
    "  0.004878353562177497,\n",
    "  -0.03423618826280937,\n",
    "  -4.35573026528474]]\n",
    "  \n",
    "  [[305.885481089221, 0.0, 131.12073687980586],\n",
    " [0.0, 304.90162701433684, 124.20965643428335],\n",
    " [0.0, 0.0, 1.0]]"
   ]
  },
  {
   "cell_type": "code",
   "execution_count": 16,
   "metadata": {},
   "outputs": [],
   "source": [
    "import matplotlib.pylab as plt"
   ]
  },
  {
   "cell_type": "code",
   "execution_count": 15,
   "metadata": {},
   "outputs": [
    {
     "data": {
      "text/plain": [
       "True"
      ]
     },
     "execution_count": 15,
     "metadata": {},
     "output_type": "execute_result"
    }
   ],
   "source": [
    "dst = cv2.undistort(img, mtx, dist, None, newcameramtx)\n",
    "\n",
    "# crop the image\n",
    "#x,y,w,h = roi\n",
    "#dst = dst[y:y+h, x:x+w]\n",
    "cv2.imwrite('images/calibresult.png',dst)\n"
   ]
  },
  {
   "cell_type": "code",
   "execution_count": 17,
   "metadata": {},
   "outputs": [
    {
     "data": {
      "text/plain": [
       "True"
      ]
     },
     "execution_count": 17,
     "metadata": {},
     "output_type": "execute_result"
    }
   ],
   "source": [
    "# undistort\n",
    "mapx,mapy = cv2.initUndistortRectifyMap(mtx,dist,None,newcameramtx,(w,h),5)\n",
    "dst = cv2.remap(img,mapx,mapy,cv2.INTER_LINEAR)\n",
    "\n",
    "# crop the image\n",
    "x,y,w,h = roi\n",
    "dst = dst[y:y+h, x:x+w]\n",
    "cv2.imwrite('images/calibresult.png',dst)"
   ]
  },
  {
   "cell_type": "code",
   "execution_count": 71,
   "metadata": {},
   "outputs": [
    {
     "data": {
      "text/plain": [
       "array([[284.177948  ,   0.        , 150.35060845],\n",
       "       [  0.        , 284.62875366, 120.19370408],\n",
       "       [  0.        ,   0.        ,   1.        ]])"
      ]
     },
     "execution_count": 71,
     "metadata": {},
     "output_type": "execute_result"
    }
   ],
   "source": [
    "newcameramtx"
   ]
  },
  {
   "cell_type": "code",
   "execution_count": null,
   "metadata": {},
   "outputs": [],
   "source": []
  }
 ],
 "metadata": {
  "kernelspec": {
   "display_name": "Python 3",
   "language": "python",
   "name": "python3"
  },
  "language_info": {
   "codemirror_mode": {
    "name": "ipython",
    "version": 3
   },
   "file_extension": ".py",
   "mimetype": "text/x-python",
   "name": "python",
   "nbconvert_exporter": "python",
   "pygments_lexer": "ipython3",
   "version": "3.7.4"
  }
 },
 "nbformat": 4,
 "nbformat_minor": 4
}
