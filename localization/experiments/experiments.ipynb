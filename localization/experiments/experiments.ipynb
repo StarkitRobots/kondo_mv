{
 "cells": [
  {
   "cell_type": "code",
   "execution_count": 377,
   "metadata": {},
   "outputs": [],
   "source": [
    "import json \n",
    "import numpy as np\n",
    "import random \n",
    "class Field:\n",
    "    def __init__(self, field):\n",
    "        self.field = figures\n",
    "        \n",
    "    def __init__(self, path):\n",
    "        with open(path) as f:\n",
    "            self.field = json.loads(f.read())\n",
    "        self.w_width = self.field['main_rectangle'][0][0]\n",
    "        self.w_length = self.field['main_rectangle'][0][1]"
   ]
  },
  {
   "cell_type": "code",
   "execution_count": 386,
   "metadata": {},
   "outputs": [],
   "source": [
    "import math\n",
    "class Robot(Field):\n",
    "    def __init__(self, x = 0, y = 0, yaw = math.pi/2):\n",
    "        self.k = True \n",
    "        self.x = x          # robot's x coordinate\n",
    "        self.y = y          # robot's y coordinate\n",
    "        self.orientation = yaw   # robot's orientation\n",
    " \n",
    "        self.forward_noise = 0.05   # noise of the forward movement\n",
    "        self.turn_noise = 0.1      # noise of the turn\n",
    "        self.sense_noise = 0.05     # noise of the sensing\n",
    "        \n",
    "    def set_coord(self, new_x, new_y, new_orientation):\n",
    "        #if new_orientation < 0 or new_orientation >= 2 * pi:\n",
    "        #   raise ValueError('Orientation must be in [0..2pi]')\n",
    "\n",
    "        self.x = float(new_x)\n",
    "        self.y = float(new_y)\n",
    "        self.orientation = float(new_orientation)\n",
    "    def set_noise(self, new_forward_noise, new_turn_noise, new_sense_noise):\n",
    " \n",
    "        self.forward_noise = float(new_forward_noise)\n",
    "        self.turn_noise = float(new_turn_noise)\n",
    "        self.sense_noise = float(new_sense_noise)  \n",
    "\n",
    "    def sense(self):\n",
    "        z = []\n",
    "\n",
    "        for i in range(len(landmarks)):\n",
    "            dist =np. sqrt((self.x - landmarks[i][0]) ** 2 + (self.y - landmarks[i][1]) ** 2)\n",
    "            dist += random.gauss(0.0, self.sense_noise)\n",
    "            z.append(dist)\n",
    "\n",
    "        return z\n",
    "    def move(self, turn, forward):\n",
    " \n",
    "\n",
    "        # turn, and add randomness to the turning command\n",
    "        orientation = self.orientation + float(turn) + random.gauss(0.0, self.turn_noise)\n",
    "        orientation %= 2 * np.pi\n",
    "\n",
    "        # move, and add randomness to the motion command\n",
    "        dist = float(forward) + random.gauss(0.0, self.forward_noise)\n",
    "        \n",
    "        x = self.x + (np.cos(orientation) * dist)\n",
    "        y = self.y + (np.sin(orientation) * dist)\n",
    "\n",
    "        # cyclic truncate\n",
    "        #x %= Field().w_width\n",
    "        #y %= Field().w_length\n",
    "\n",
    "        # set particle\n",
    "        res = Robot(x, y, orientation)\n",
    "        #res.set_noise(self.forward_noise, self.turn_noise, self.sense_noise)\n",
    "\n",
    "        return res\n",
    "    \n",
    "    def gaussian(self, mu, sigma, x):\n",
    "        #print(mu, sigma, x)\n",
    "        # calculates the probability of x for 1-dim Gaussian with mean mu and var. sigma\n",
    "        return np.exp(-((mu - x) ** 2) / (sigma ** 2) / 2.0) / np.sqrt(2.0 * np.pi * (sigma ** 2))\n",
    "    \n",
    "    def get_measurements():\n",
    "        return 0\n",
    "    \n",
    "    def measurement_prob(self, measurement):\n",
    "        prob = 1.0\n",
    "        for i in range(len(landmarks)):\n",
    "            dist = np.sqrt((self.x - landmarks[i][0]) ** 2 + (self.y - landmarks[i][1]) ** 2)\n",
    "            prob *= self.gaussian(dist, self.sense_noise, measurement[i])"
   ]
  },
  {
   "cell_type": "code",
   "execution_count": 387,
   "metadata": {},
   "outputs": [],
   "source": [
    "class ParticleFilter():\n",
    "    def __init__(self, myrobot, field,\n",
    "                 n = 10, forward_noise = 0.025, \n",
    "                 turn_noise = 0.1, sense_noise = 0.2):\n",
    "        self.forward_noise = forward_noise\n",
    "        self.turn_noise = turn_noise\n",
    "        self.sense_noise = sense_noise\n",
    "        self.n = n  # number of particles\n",
    "        self.myrobot = myrobot\n",
    "        self.p = [] \n",
    "        if myrobot.k:\n",
    "            for i in range(self.n):\n",
    "                x = Robot((random.random()-0.5)*field.w_width  , (random.random()-0.5)*field.w_length, random.random()*np.pi)\n",
    "            #x.set_noise(forward_noise, turn_noise, 0)\n",
    "                self.p.append(x)  \n",
    "        else:\n",
    "             for i in range(self.n):\n",
    "                x_coord = self.myrobot.x + random.gauss(0, self.sense_noise*3)\n",
    "                y_coord = self.myrobot.y + random.gauss(0, self.sense_noise*3)\n",
    "                yaw = self.myrobot.orientation + random.gauss(0, self.sense_noise)*math.pi\n",
    "                yaw %= 2 * math.pi\n",
    "                x = Robot(x_coord, y_coord, yaw)\n",
    "                #x.set_noise(forward_noise, turn_noise, 0)\n",
    "                self.p.append(x)\n",
    "\n",
    "    def step(self, b):\n",
    "        \n",
    "        self.myrobot = self.myrobot.move(0, b)\n",
    "        #z = self.myrobot.sense()\n",
    "\n",
    "        # now we simulate a robot motion for each of\n",
    "        # these particles\n",
    "        p_tmp = []\n",
    "        p = self.p\n",
    "        for i in range(self.n):\n",
    "            p_tmp.append(p[i].move(0, b))\n",
    "            \n",
    "        self.p = p_tmp\n",
    "        print(p_tmp[0].x)\n",
    "        return p_tmp\n",
    "    \n",
    "    def do_n_steps(self, steps):\n",
    "        for i in range(steps):\n",
    "            self.step()\n",
    "            \n",
    "    def resampling(self):\n",
    "        p_tmp = []\n",
    "        w = []\n",
    "        for i in range(self.n):\n",
    "            z = self.myrobot.sense()\n",
    "            w.append(self.p[i].measurement_prob(z))\n",
    "        index = int(random.random() * self.n)\n",
    "        beta = 0.0\n",
    "        mw = max(w)\n",
    "        for i in range(self.n):\n",
    "            beta += random.random() * 2.0 * mw\n",
    "            while beta > w[index]:\n",
    "                beta -= w[index]\n",
    "                index = (index + 1) % self.n\n",
    "            p_tmp.append(self.p[index])\n",
    "            \n",
    "        self.p = p_tmp\n",
    "        return w, p_tmp"
   ]
  },
  {
   "cell_type": "code",
   "execution_count": null,
   "metadata": {},
   "outputs": [],
   "source": []
  },
  {
   "cell_type": "code",
   "execution_count": 388,
   "metadata": {},
   "outputs": [],
   "source": [
    "path = \"untitled.json\"\n",
    "field = Field(path)"
   ]
  },
  {
   "cell_type": "code",
   "execution_count": 389,
   "metadata": {},
   "outputs": [
    {
     "data": {
      "text/plain": [
       "{'circles': [[0, 0, 1]],\n",
       " 'lines': [[[-4.5, 4.5], [0, 0]]],\n",
       " 'points': [[0, 0]],\n",
       " 'main_rectangle': [[6, 9]],\n",
       " 'rectangles': [[[-1, -4.5], 2, 1], [[-1, 3.5], 2, 1]]}"
      ]
     },
     "execution_count": 389,
     "metadata": {},
     "output_type": "execute_result"
    }
   ],
   "source": [
    "field.field"
   ]
  },
  {
   "cell_type": "code",
   "execution_count": 390,
   "metadata": {},
   "outputs": [],
   "source": [
    "def get_landmarks(fields):\n",
    "    landmarks = {}\n",
    "    for el in fields:\n",
    "        if el == rectangle:\n",
    "            landmarks[el] = []"
   ]
  },
  {
   "cell_type": "code",
   "execution_count": 391,
   "metadata": {},
   "outputs": [
    {
     "name": "stdout",
     "output_type": "stream",
     "text": [
      "[[0, 0, 1]]\n"
     ]
    }
   ],
   "source": [
    "for el in field.field:\n",
    "    if el == 'circles':\n",
    "        for circle in field.field['circles']:\n",
    "            plot_circle = plt.Circle((circle[0], circle[1]), circle[2], facecolor='#cc0000', edgecolor='#330000')\n",
    "            print(field.field[el])"
   ]
  },
  {
   "cell_type": "code",
   "execution_count": 407,
   "metadata": {},
   "outputs": [],
   "source": [
    "robot = Robot()\n",
    "pf = ParticleFilter(robot, field)\n",
    "p = pf.p\n",
    "import matplotlib.pylab as plt\n",
    "world_size = 10\n",
    "\n"
   ]
  },
  {
   "cell_type": "code",
   "execution_count": 401,
   "metadata": {},
   "outputs": [
    {
     "name": "stdout",
     "output_type": "stream",
     "text": [
      "4.532388418042434\n"
     ]
    }
   ],
   "source": [
    "pf.step(2.0)\n",
    "p = pf.p"
   ]
  },
  {
   "cell_type": "code",
   "execution_count": 411,
   "metadata": {},
   "outputs": [],
   "source": [
    "pf.myrobot.x = -0.2\n",
    "pf.myrobot.y = 2.5 \n",
    "pf.myrobot.orientation = math.pi/2"
   ]
  },
  {
   "cell_type": "code",
   "execution_count": 412,
   "metadata": {},
   "outputs": [
    {
     "data": {
      "text/plain": [
       "<matplotlib.patches.Arrow at 0x12ead4550>"
      ]
     },
     "execution_count": 412,
     "metadata": {},
     "output_type": "execute_result"
    },
    {
     "data": {
      "image/png": "[encoded data removed]",
      "text/plain": [
       "<Figure size 432x648 with 1 Axes>"
      ]
     },
     "metadata": {
      "needs_background": "light"
     },
     "output_type": "display_data"
    }
   ],
   "source": [
    "factor = 7\n",
    "plt.figure(\"Robot in the world\", figsize=(field.w_width, field.w_length))\n",
    "plt.title('Particle filter, step ' + str(1))\n",
    "grid = [-field.w_width/2.0, field.w_width/2.0, -field.w_length/2.0, field.w_length/2.0]\n",
    "ax = plt.axis(grid)\n",
    "#plt.grid(b=True, which='major', color='0.75', linestyle='--')\n",
    "#plt.xticks([i for i in range(0, int(6), 5)])\n",
    "#plt.yticks([i for i in range(0, int(9), 5)])\n",
    "\n",
    "for el in field.field:\n",
    "    if el == 'circles':\n",
    "        for circle in field.field['circles']:\n",
    "            plot_circle = plt.Circle((circle[0], circle[1]), circle[2],linewidth=2, fill=False, edgecolor='#330000')\n",
    "            plt.gca().add_patch(plot_circle)\n",
    "    if el == 'lines' :     \n",
    "        for line in field.field['lines']:\n",
    "            plot_line = plt.Line2D(line[0], line[1], linewidth=2, linestyle=\"-\", color='#330000')\n",
    "            plt.gca().add_line(plot_line)\n",
    "    if el == 'rectangles' :     \n",
    "        for rectangle in field.field['rectangles']:\n",
    "            rect = plt.Rectangle(rectangle[0], rectangle[1], rectangle[2], linewidth=2, linestyle=\"-\", fill = False, edgecolor='#330000')\n",
    "            plt.gca().add_patch(rect)\n",
    "    \n",
    "# draw particles\n",
    "for ind in range(len(p)):\n",
    "\n",
    "    # particle\n",
    "    circle = plt.Circle((p[ind].x, p[ind].y), 1./factor/2, facecolor='#ffb266', edgecolor='#994c00', alpha=0.5)\n",
    "    plt.gca().add_patch(circle)\n",
    "\n",
    "    # particle's orientation\n",
    "    arrow = plt.Arrow(p[ind].x, p[ind].y, 2*np.cos(p[ind].orientation)/factor, 2*np.sin(p[ind].orientation)/factor, width=1/factor, alpha=1., facecolor='#994c00', edgecolor='#994c00')\n",
    "    plt.gca().add_patch(arrow)\n",
    "\n",
    "circle = plt.Circle((robot.x, robot.y), 1./factor, facecolor='#6666ff', edgecolor='#0000cc')\n",
    "plt.gca().add_patch(circle)\n",
    " \n",
    "    # robot's orientation\n",
    "arrow = plt.Arrow(robot.x, robot.y, 2*np.cos(robot.orientation), 2*np.sin(robot.orientation)/factor/0.5, 1./factor, alpha=1.0, facecolor='#000000', edgecolor='#000000')\n",
    "plt.gca().add_patch(arrow)\n",
    " \n"
   ]
  },
  {
   "cell_type": "code",
   "execution_count": 364,
   "metadata": {},
   "outputs": [
    {
     "data": {
      "image/png": "[encoded data removed]",
      "text/plain": [
       "<Figure size 432x648 with 1 Axes>"
      ]
     },
     "metadata": {
      "needs_background": "light"
     },
     "output_type": "display_data"
    }
   ],
   "source": [
    "factor = 10\n",
    "plt.figure(\"Robot in the world\", figsize=(field.w_width, field.w_length))\n",
    "\n",
    "grid = [0, field.w_width, 0, field.w_length]\n",
    "ax = plt.axis(grid)\n",
    "#plt.grid(b=True, which='major', color='0.75', linestyle='--')\n",
    "#plt.xticks([i for i in range(0, int(6), 5)])\n",
    "#plt.yticks([i for i in range(0, int(9), 5)])\n",
    "\n",
    "for el in field.field:\n",
    "    if el == 'circles':\n",
    "        for circle in field.field['circles']:\n",
    "            plot_circle = plt.Circle((circle[0], circle[1]), circle[2],linewidth=2, fill=False, edgecolor='#330000')\n",
    "            plt.gca().add_patch(plot_circle)\n",
    "    if el == 'lines' :     \n",
    "        for line in field.field['lines']:\n",
    "            plot_line = plt.Line2D(line[0], line[1], linewidth=2, linestyle=\"-\", color='#330000')\n",
    "            plt.gca().add_line(plot_line)\n",
    "    if el == 'rectangles' :     \n",
    "        for rectangle in field.field['rectangles']:\n",
    "            rect = plt.Rectangle(rectangle[0], rectangle[1], rectangle[2], linewidth=2, linestyle=\"-\", fill = False, edgecolor='#330000')\n",
    "            plt.gca().add_patch(rect)\n",
    "    \n",
    "# draw particles\n",
    "for ind in range(len(p)):\n",
    "\n",
    "    # particle\n",
    "    circle = plt.Circle((p[ind].x, p[ind].y), 1./factor/2, facecolor='#ffb266', edgecolor='#994c00', alpha=0.5)\n",
    "    plt.gca().add_patch(circle)\n",
    "\n",
    "    # particle's orientation\n",
    "    arrow = plt.Arrow(p[ind].x, p[ind].y, 2*np.cos(p[ind].orientation)/factor, 2*np.sin(p[ind].orientation)/factor, width=1/factor, alpha=1., facecolor='#994c00', edgecolor='#994c00')\n",
    "    plt.gca().add_patch(arrow)\n",
    "\n"
   ]
  },
  {
   "cell_type": "code",
   "execution_count": 155,
   "metadata": {},
   "outputs": [],
   "source": [
    "import matplotlib.pylab as plt\n",
    "def visualization(robot, step, p, pr, weights):\n",
    "\n",
    " \n",
    "    plt.figure(\"Robot in the world\", figsize=(15., 15.))\n",
    "    plt.title('Particle filter, step ' + str(step))\n",
    " \n",
    "    # draw coordinate grid for plotting\n",
    "    grid = [0, world_size, 0, world_size]\n",
    "    plt.axis(grid)\n",
    "    plt.grid(b=True, which='major', color='0.75', linestyle='--')\n",
    "    plt.xticks([i for i in range(0, int(world_size), 5)])\n",
    "    plt.yticks([i for i in range(0, int(world_size), 5)])\n",
    " \n",
    "    # draw particles\n",
    "    for ind in range(len(p)):\n",
    " \n",
    "        # particle\n",
    "        circle = plt.Circle((p[ind].x, p[ind].y), 1., facecolor='#ffb266', edgecolor='#994c00', alpha=0.5)\n",
    "        plt.gca().add_patch(circle)\n",
    " \n",
    "        # particle's orientation\n",
    "        arrow = plt.Arrow(p[ind].x, p[ind].y, 2*np.cos(p[ind].orientation), 2*np.sin(p[ind].orientation), alpha=1., facecolor='#994c00', edgecolor='#994c00')\n",
    "        plt.gca().add_patch(arrow)\n",
    " \n",
    "    # draw resampled particles\n",
    "    for ind in range(len(pr)):\n",
    " \n",
    "        # particle\n",
    "        circle = plt.Circle((pr[ind].x, pr[ind].y), 1., facecolor='#66ff66', edgecolor='#009900', alpha=0.5)\n",
    "        plt.gca().add_patch(circle)\n",
    " \n",
    "        # particle's orientation\n",
    "        arrow = plt.Arrow(pr[ind].x, pr[ind].y, 2*np.cos(pr[ind].orientation), 2*np.sin(pr[ind].orientation), alpha=1., facecolor='#006600', edgecolor='#006600')\n",
    "        plt.gca().add_patch(arrow)\n",
    " \n",
    "    # fixed landmarks of known locations\n",
    "    for lm in landmarks:\n",
    "        circle = plt.Circle((lm[0], lm[1]), 1., facecolor='#cc0000', edgecolor='#330000')\n",
    "        plt.gca().add_patch(circle)\n",
    " \n",
    "    # robot's location\n",
    "    circle = plt.Circle((robot.x, robot.y), 1., facecolor='#6666ff', edgecolor='#0000cc')\n",
    "    plt.gca().add_patch(circle)\n",
    " \n",
    "    # robot's orientation\n",
    "    arrow = plt.Arrow(robot.x, robot.y, 2*np.cos(robot.orientation), 2*np.sin(robot.orientation), alpha=0.5, facecolor='#000000', edgecolor='#000000')\n",
    "    plt.gca().add_patch(arrow)\n",
    " \n",
    "    plt.savefig(\"figure_\" + str(step) + \".png\")\n",
    "    plt.close()"
   ]
  },
  {
   "cell_type": "code",
   "execution_count": 4,
   "metadata": {},
   "outputs": [],
   "source": [
    "k = 0"
   ]
  },
  {
   "cell_type": "code",
   "execution_count": 7,
   "metadata": {},
   "outputs": [
    {
     "ename": "SyntaxError",
     "evalue": "invalid syntax (<ipython-input-7-17d279bf2ded>, line 1)",
     "output_type": "error",
     "traceback": [
      "\u001b[0;36m  File \u001b[0;32m\"<ipython-input-7-17d279bf2ded>\"\u001b[0;36m, line \u001b[0;32m1\u001b[0m\n\u001b[0;31m    with open('pf_constants.json', 'w') as constants\u001b[0m\n\u001b[0m                                                    ^\u001b[0m\n\u001b[0;31mSyntaxError\u001b[0m\u001b[0;31m:\u001b[0m invalid syntax\n"
     ]
    }
   ],
   "source": [
    "with open('pf_constants.json', 'w') as constants\n"
   ]
  },
  {
   "cell_type": "code",
   "execution_count": 18,
   "metadata": {},
   "outputs": [],
   "source": [
    "s = 2.0"
   ]
  },
  {
   "cell_type": "code",
   "execution_count": 17,
   "metadata": {},
   "outputs": [],
   "source": [
    "k = [1,3,4]"
   ]
  },
  {
   "cell_type": "code",
   "execution_count": 22,
   "metadata": {},
   "outputs": [
    {
     "ename": "TypeError",
     "evalue": "list indices must be integers or slices, not float",
     "output_type": "error",
     "traceback": [
      "\u001b[0;31m---------------------------------------------------------------------------\u001b[0m",
      "\u001b[0;31mTypeError\u001b[0m                                 Traceback (most recent call last)",
      "\u001b[0;32m<ipython-input-22-56a277e1e4e4>\u001b[0m in \u001b[0;36m<module>\u001b[0;34m\u001b[0m\n\u001b[1;32m      1\u001b[0m \u001b[0;32mfor\u001b[0m \u001b[0mi\u001b[0m \u001b[0;32min\u001b[0m \u001b[0mk\u001b[0m\u001b[0;34m:\u001b[0m\u001b[0;34m\u001b[0m\u001b[0;34m\u001b[0m\u001b[0m\n\u001b[0;32m----> 2\u001b[0;31m     \u001b[0mk\u001b[0m\u001b[0;34m[\u001b[0m\u001b[0mi\u001b[0m\u001b[0;34m]\u001b[0m \u001b[0;34m/=\u001b[0m\u001b[0ms\u001b[0m\u001b[0;34m\u001b[0m\u001b[0;34m\u001b[0m\u001b[0m\n\u001b[0m",
      "\u001b[0;31mTypeError\u001b[0m: list indices must be integers or slices, not float"
     ]
    }
   ],
   "source": [
    "for i in k:\n",
    "    k[i] /=s"
   ]
  },
  {
   "cell_type": "code",
   "execution_count": 24,
   "metadata": {},
   "outputs": [
    {
     "ename": "TypeError",
     "evalue": "unsupported operand type(s) for /: 'list' and 'float'",
     "output_type": "error",
     "traceback": [
      "\u001b[0;31m---------------------------------------------------------------------------\u001b[0m",
      "\u001b[0;31mTypeError\u001b[0m                                 Traceback (most recent call last)",
      "\u001b[0;32m<ipython-input-24-aedc9d7d8dcd>\u001b[0m in \u001b[0;36m<module>\u001b[0;34m\u001b[0m\n\u001b[0;32m----> 1\u001b[0;31m \u001b[0mk\u001b[0m \u001b[0;34m=\u001b[0m \u001b[0mk\u001b[0m\u001b[0;34m/\u001b[0m\u001b[0ms\u001b[0m\u001b[0;34m\u001b[0m\u001b[0;34m\u001b[0m\u001b[0m\n\u001b[0m",
      "\u001b[0;31mTypeError\u001b[0m: unsupported operand type(s) for /: 'list' and 'float'"
     ]
    }
   ],
   "source": [
    "k = k/s"
   ]
  },
  {
   "cell_type": "code",
   "execution_count": 1,
   "metadata": {},
   "outputs": [],
   "source": [
    "kek = {'her':[12,24],'ved':[37,69]}"
   ]
  },
  {
   "cell_type": "code",
   "execution_count": 2,
   "metadata": {},
   "outputs": [
    {
     "data": {
      "text/plain": [
       "{'her': [12, 24], 'ved': [37, 69]}"
      ]
     },
     "execution_count": 2,
     "metadata": {},
     "output_type": "execute_result"
    }
   ],
   "source": [
    "kek"
   ]
  },
  {
   "cell_type": "code",
   "execution_count": 3,
   "metadata": {},
   "outputs": [],
   "source": [
    "b = kek['her']\n",
    "kek['her'] = kek['ved']"
   ]
  },
  {
   "cell_type": "code",
   "execution_count": 4,
   "metadata": {},
   "outputs": [
    {
     "data": {
      "text/plain": [
       "[12, 24]"
      ]
     },
     "execution_count": 4,
     "metadata": {},
     "output_type": "execute_result"
    }
   ],
   "source": [
    "b"
   ]
  },
  {
   "cell_type": "code",
   "execution_count": 5,
   "metadata": {},
   "outputs": [
    {
     "data": {
      "text/plain": [
       "{'her': [37, 69], 'ved': [37, 69]}"
      ]
     },
     "execution_count": 5,
     "metadata": {},
     "output_type": "execute_result"
    }
   ],
   "source": [
    "kek"
   ]
  },
  {
   "cell_type": "code",
   "execution_count": 9,
   "metadata": {},
   "outputs": [],
   "source": [
    "a = kek.keys()"
   ]
  },
  {
   "cell_type": "code",
   "execution_count": 10,
   "metadata": {},
   "outputs": [
    {
     "data": {
      "text/plain": [
       "dict_keys(['her', 'ved'])"
      ]
     },
     "execution_count": 10,
     "metadata": {},
     "output_type": "execute_result"
    }
   ],
   "source": [
    "a"
   ]
  },
  {
   "cell_type": "code",
   "execution_count": 11,
   "metadata": {},
   "outputs": [
    {
     "data": {
      "text/plain": [
       "dict_values([[37, 69], [37, 69]])"
      ]
     },
     "execution_count": 11,
     "metadata": {},
     "output_type": "execute_result"
    }
   ],
   "source": [
    "kek.values()"
   ]
  },
  {
   "cell_type": "code",
   "execution_count": null,
   "metadata": {},
   "outputs": [],
   "source": []
  }
 ],
 "metadata": {
  "kernelspec": {
   "display_name": "Python 3",
   "language": "python",
   "name": "python3"
  },
  "language_info": {
   "codemirror_mode": {
    "name": "ipython",
    "version": 3
   },
   "file_extension": ".py",
   "mimetype": "text/x-python",
   "name": "python",
   "nbconvert_exporter": "python",
   "pygments_lexer": "ipython3",
   "version": "3.7.3"
  }
 },
 "nbformat": 4,
 "nbformat_minor": 4
}
