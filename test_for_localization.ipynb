{
 "cells": [
  {
   "cell_type": "code",
   "execution_count": null,
   "metadata": {},
   "outputs": [],
   "source": [
    "!pip3 install matplotlib"
   ]
  },
  {
   "cell_type": "code",
   "execution_count": 1,
   "metadata": {},
   "outputs": [],
   "source": [
    "import sys\n",
    "import json\n",
    "import math\n",
    "\n",
    "sys.path.append(\"localization/\")\n",
    "sys.path.append(\"localization/tools/\")\n",
    "from localization import Localization"
   ]
  },
  {
   "cell_type": "code",
   "execution_count": 2,
   "metadata": {},
   "outputs": [],
   "source": [
    "Loc = Localization(0.0, 0.0, 0.0, 'yellow', button = False)"
   ]
  },
  {
   "cell_type": "code",
   "execution_count": 3,
   "metadata": {},
   "outputs": [
    {
     "data": {
      "text/plain": [
       "0.0"
      ]
     },
     "execution_count": 3,
     "metadata": {},
     "output_type": "execute_result"
    }
   ],
   "source": [
    "Loc.pf.robot.x"
   ]
  },
  {
   "cell_type": "code",
   "execution_count": null,
   "metadata": {},
   "outputs": [],
   "source": [
    "import sys\n",
    "import json\n",
    "import math\n",
    "\n",
    "sys.path.append(\"localization/\")\n",
    "\n",
    "from particle_filter import ParticleFilter\n",
    "from entity import Entity\n",
    "from field import Field\n",
    "\n",
    "with open(\"localization/landmarks.json\", \"r\") as f:\n",
    "            landmarks = json.loads(f.read())\n",
    "from pf_visualization import visualization"
   ]
  },
  {
   "cell_type": "code",
   "execution_count": null,
   "metadata": {},
   "outputs": [],
   "source": [
    "pf = ParticleFilter(Entity(-1.8, 0.0, 0.0), Field(\"localization/parfield.json\"), landmarks, n = 100)"
   ]
  },
  {
   "cell_type": "code",
   "execution_count": 5,
   "metadata": {},
   "outputs": [],
   "source": [
    "shift = {'shift_x':0.5, 'shift_y':0.01, 'shift_yaw':0}\n",
    "observations = {\"yellow_posts\":[[1.8, 0.55],[1.8, -0.55]], \"blue_posts\":[], \"lines\":[], \"penalty\":[]}\n",
    "other_coord = [0.0, 0.0, 0.0]"
   ]
  },
  {
   "cell_type": "code",
   "execution_count": null,
   "metadata": {},
   "outputs": [],
   "source": [
    "Entity(-1.8, 0.0, 0.0)"
   ]
  },
  {
   "cell_type": "code",
   "execution_count": null,
   "metadata": {},
   "outputs": [],
   "source": [
    "Loc.pf.particles_move(shift)"
   ]
  },
  {
   "cell_type": "code",
   "execution_count": 6,
   "metadata": {},
   "outputs": [
    {
     "name": "stdout",
     "output_type": "stream",
     "text": [
      "consistency 0.4\n",
      "consistency 0.8\n"
     ]
    }
   ],
   "source": [
    "Loc.pf.resampling(observations)"
   ]
  },
  {
   "cell_type": "code",
   "execution_count": null,
   "metadata": {},
   "outputs": [],
   "source": [
    "pf.fall_reset(observations)"
   ]
  },
  {
   "cell_type": "code",
   "execution_count": null,
   "metadata": {
    "scrolled": true
   },
   "outputs": [],
   "source": [
    "pf.return_coord()"
   ]
  },
  {
   "cell_type": "code",
   "execution_count": null,
   "metadata": {},
   "outputs": [],
   "source": [
    "math.sin(math.pi/2)"
   ]
  },
  {
   "cell_type": "code",
   "execution_count": null,
   "metadata": {},
   "outputs": [],
   "source": [
    "visualization(pf.robot, pf.particles, factor = 7)"
   ]
  },
  {
   "cell_type": "code",
   "execution_count": null,
   "metadata": {},
   "outputs": [],
   "source": [
    "class test():\n",
    "    pf1 = ParticleFilter(Robot(-1.8, 0.0, 0.0), Field(\"localization/parfield.json\"), landmarks, n = 100)"
   ]
  },
  {
   "cell_type": "code",
   "execution_count": null,
   "metadata": {},
   "outputs": [],
   "source": [
    "test.pf1.return_coord()"
   ]
  },
  {
   "cell_type": "code",
   "execution_count": null,
   "metadata": {},
   "outputs": [],
   "source": [
    "logs = open('localization/logs/logs.txt','r')\n",
    "log = logs.read()\n",
    "logi = log.split('|')\n",
    "b = \" []\"\n",
    "vis_logs = []\n",
    "for lg in logi[0::2]:\n",
    "    if lg != '\\n':\n",
    "        particles = logi[logi.index(lg) + 1].split(\"\\n\")\n",
    "        pr = []\n",
    "        particles.pop()\n",
    "        particles.pop(0)\n",
    "        if lg.split(\"\\n\")[0].split(',')[0] == \"resempling\":\n",
    "            pr = logi[logi.index(lg)].split(\"\\n\")[1].split(\"$\")[1]\n",
    "            for char in b:\n",
    "                pr = pr.replace(char,\"\")\n",
    "            pr = pr.split(\",\")\n",
    "            pr = [[float(px),float(py)] for px, py in zip(pr[0::2], pr[1::2])]\n",
    "        if lg[0] == '\\n':\n",
    "            lg = lg[1:]\n",
    "        vis_logs.append(\n",
    "            [lg.split(\"\\n\")[0].split(',')[0], \n",
    "                         [float(lg.split(\"\\n\")[2].split()[1]),\n",
    "                        float(lg.split(\"\\n\")[2].split()[2]),float(lg.split(\"\\n\")[2].split()[3])],\n",
    "\n",
    "                        [[float(s.split()[0]),float(s.split()[1]),float(s.split()[2])] for s in particles],\n",
    "                         pr])\n",
    "\n"
   ]
  },
  {
   "cell_type": "code",
   "execution_count": null,
   "metadata": {},
   "outputs": [],
   "source": [
    "def open_log(path):\n",
    "    logs = open('localization/logs/'+str(path),'r')\n",
    "    log = logs.read()\n",
    "    logi = log.split('|')\n",
    "    b = \" []\"\n",
    "    vis_logs = []\n",
    "    for lg in logi[0::2]:\n",
    "        if lg != '\\n':\n",
    "            particles = logi[logi.index(lg) + 1].split(\"\\n\")\n",
    "            pr = []\n",
    "            particles.pop()\n",
    "            particles.pop(0)\n",
    "            if lg.split(\"\\n\")[0].split(',')[0] == \"resempling\":\n",
    "                pr = logi[logi.index(lg)].split(\"\\n\")[1].split(\"$\")[1]\n",
    "                for char in b:\n",
    "                    pr = pr.replace(char,\"\")\n",
    "                pr = pr.split(\",\")\n",
    "                pr = [[float(px),float(py)] for px, py in zip(pr[0::2], pr[1::2])]\n",
    "            if lg[0] == '\\n':\n",
    "                lg = lg[1:]\n",
    "            vis_logs.append(\n",
    "                [lg.split(\"\\n\")[0].split(',')[0], \n",
    "                             [float(lg.split(\"\\n\")[2].split()[1]),\n",
    "                            float(lg.split(\"\\n\")[2].split()[2]),float(lg.split(\"\\n\")[2].split()[3])],\n",
    "\n",
    "                            [[float(s.split()[0]),float(s.split()[1]),float(s.split()[2])] for s in particles],\n",
    "                             pr])\n",
    "\n",
    "\n"
   ]
  },
  {
   "cell_type": "code",
   "execution_count": null,
   "metadata": {},
   "outputs": [],
   "source": [
    "vis_logs"
   ]
  },
  {
   "cell_type": "code",
   "execution_count": null,
   "metadata": {},
   "outputs": [],
   "source": [
    "0.0 -1.2\n",
    "0.0 1.2\n",
    "0.0 0.4\n",
    "0.0 -0.4\n",
    "1.8 1.2\n",
    "1.8 -1.2\n",
    "-1.8 1.2\n",
    "-1.8 -1.2\n"
   ]
  },
  {
   "cell_type": "code",
   "execution_count": null,
   "metadata": {},
   "outputs": [],
   "source": []
  },
  {
   "cell_type": "code",
   "execution_count": null,
   "metadata": {},
   "outputs": [],
   "source": [
    "visualization_logs(vis_logs,vis_logs[2])"
   ]
  },
  {
   "cell_type": "code",
   "execution_count": null,
   "metadata": {},
   "outputs": [],
   "source": [
    "import matplotlib.pylab as plt\n",
    "from field import Field\n",
    "field = Field('localization/parfield.json')\n",
    "with open(\"localization/landmarks.json\", \"r\") as f:\n",
    "            landmarks = json.loads(f.read())\n",
    "import time\n",
    "def visualization_logs(logs, log, factor = 7 ):\n",
    "    plt.clf()\n",
    "    plt.figure(\"Robot in the world\",figsize=(field.w_width*3, field.w_length*3))\n",
    "    plt.title(log[0] + ', step ' + str(logs.index(log)))\n",
    " \n",
    "    # draw coordinate grid for plotting\n",
    "    grid = [-field.w_width/2.0, field.w_width/2.0, -field.w_length/2.0, field.w_length/2.0]\n",
    "    ax = plt.axis(grid)\n",
    "    \n",
    "    for el in field.field:\n",
    "        if el == 'circles':\n",
    "            for circle in field.field['circles']:\n",
    "                plot_circle = plt.Circle((circle[0], circle[1]), circle[2],linewidth=2, fill=False, edgecolor='#330000')\n",
    "                plt.gca().add_patch(plot_circle)\n",
    "        if el == 'lines' :     \n",
    "            for line in field.field['lines']:\n",
    "                plot_line = plt.Line2D(line[0], line[1], linewidth=2, linestyle=\"-\", color='#330000')\n",
    "                plt.gca().add_line(plot_line)\n",
    "        if el == 'rectangles' :     \n",
    "            for rectangle in field.field['rectangles']:\n",
    "                rect = plt.Rectangle(rectangle[0], rectangle[1], rectangle[2], linewidth=2, linestyle=\"-\", fill = False, edgecolor='#330000')\n",
    "                plt.gca().add_patch(rect)\n",
    "    '''\n",
    "    # draw particles\n",
    "    for ind in range(len(p)):\n",
    " \n",
    "        # particle\n",
    "        circle = plt.Circle((p[ind][0].x, p[ind][0].y), 1./factor/2, facecolor='#ffb266', edgecolor='#994c00', alpha=0.5)\n",
    "        plt.gca().add_patch(circle)\n",
    " \n",
    "        # particle's orientation\n",
    "        arrow = plt.Arrow(p[ind][0].x, p[ind][0].y, 2*math.cos(p[ind][0].yaw)/factor, 2*math.sin(p[ind][0].yaw)/factor, width=1/factor, alpha=1., facecolor='#994c00', edgecolor='#994c00')\n",
    "        plt.gca().add_patch(arrow)\n",
    "    '''\n",
    "    # draw predicted landmarks\n",
    "    if log[0] == \"resempling\":\n",
    "        for lg in log[3]:\n",
    "            circle = plt.Circle((lg[1], lg[0]), 1./factor/2, facecolor='#330000', edgecolor='#330000')\n",
    "            plt.gca().add_patch(circle)\n",
    "          \n",
    "          \n",
    "    \n",
    "    # draw resampled particles\n",
    "    for lg in log[2]:\n",
    " \n",
    "        # particle\n",
    "        circle = plt.Circle((lg[1], lg[0]), 1./factor/2, facecolor='#ffb266', edgecolor='#cc0000', alpha=0.5)\n",
    "        plt.gca().add_patch(circle)\n",
    " \n",
    "        # particle's orientation\n",
    "        arrow = plt.Arrow(lg[1], lg[0], 2*math.sin(lg[2])/factor, math.cos(lg[2])/factor,width=1/factor, alpha=1., facecolor='#006600', edgecolor='#006600')\n",
    "        plt.gca().add_patch(arrow)\n",
    " \n",
    "\n",
    "    # robot's location\n",
    "    circle = plt.Circle((log[1][1], log[1][0]), 1./factor, facecolor='#FF66E9', edgecolor='#FF66E9')\n",
    "    plt.gca().add_patch(circle)\n",
    " \n",
    "    # robot's orientation\n",
    "    arrow = plt.Arrow(log[1][1], log[1][0], 3*math.sin(log[1][2])/factor, 3*math.cos(log[1][2])/factor, width=1/factor, alpha=0.5, facecolor='#000000', edgecolor='#000000')\n",
    "    plt.gca().add_patch(arrow)\n",
    " \n",
    "   \n",
    "\n",
    "    for lm in landmarks:\n",
    "        for lms in landmarks[lm]:\n",
    "            circle = plt.Circle(((lms[1], lms[0])), \n",
    "                                1./factor/2, facecolor = '#060C73', edgecolor='#060C73')\n",
    "            plt.gca().add_patch(circle)\n",
    "    \n",
    " \n",
    "    #plt.savefig(\"figure_\" + str(logs.index(log)) + \".png\")\n",
    "\n",
    "   "
   ]
  },
  {
   "cell_type": "code",
   "execution_count": null,
   "metadata": {},
   "outputs": [],
   "source": []
  },
  {
   "cell_type": "code",
   "execution_count": null,
   "metadata": {},
   "outputs": [],
   "source": [
    "Localization:\n",
    "\n",
    "    def __init__(self, x, y, yaw, side, button = True):"
   ]
  }
 ],
 "metadata": {
  "kernelspec": {
   "display_name": "Python 3",
   "language": "python",
   "name": "python3"
  },
  "language_info": {
   "codemirror_mode": {
    "name": "ipython",
    "version": 3
   },
   "file_extension": ".py",
   "mimetype": "text/x-python",
   "name": "python",
   "nbconvert_exporter": "python",
   "pygments_lexer": "ipython3",
   "version": "3.7.6"
  }
 },
 "nbformat": 4,
 "nbformat_minor": 4
}
